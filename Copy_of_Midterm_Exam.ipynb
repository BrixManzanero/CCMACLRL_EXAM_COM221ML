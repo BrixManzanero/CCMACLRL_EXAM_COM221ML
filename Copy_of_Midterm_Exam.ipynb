{
  "cells": [
    {
      "cell_type": "code",
      "execution_count": null,
      "metadata": {
        "id": "j1bdw7mML-Da"
      },
      "outputs": [],
      "source": [
        "import pandas as pd\n",
        "import numpy as np\n",
        "import matplotlib.pyplot as plt\n",
        "import seaborn as sns\n",
        "import statsmodels.api as sm\n",
        "\n",
        "from math import nan\n",
        "from sklearn.preprocessing import LabelEncoder\n",
        "from sklearn.metrics import r2_score, mean_squared_error\n",
        "from sklearn.model_selection import train_test_split\n",
        "from sklearn.linear_model import LinearRegression\n",
        "from sklearn.model_selection import train_test_split"
      ]
    },
    {
      "cell_type": "markdown",
      "metadata": {
        "id": "V5MKeUY7L-Db"
      },
      "source": [
        "## Dataset File"
      ]
    },
    {
      "cell_type": "code",
      "execution_count": null,
      "metadata": {
        "id": "DNM2weHGL-Dd"
      },
      "outputs": [],
      "source": [
        "dataset_url = 'https://github.com/robitussin/CCMACLRL_EXAM/blob/a46a4e2a001dedaefc9b431d480b508ce86c2d96/datasets/train.csv?raw=true'\n",
        "df = pd.read_csv(dataset_url)"
      ]
    },
    {
      "cell_type": "markdown",
      "metadata": {
        "id": "IhzhLgw5L-De"
      },
      "source": [
        "## Test File"
      ]
    },
    {
      "cell_type": "code",
      "execution_count": null,
      "metadata": {
        "id": "keoVgGHKL-De"
      },
      "outputs": [],
      "source": [
        "test_url = 'https://github.com/robitussin/CCMACLRL_EXAM/blob/a46a4e2a001dedaefc9b431d480b508ce86c2d96/datasets/test.csv?raw=true'\n",
        "dt=pd.read_csv(test_url)"
      ]
    },
    {
      "cell_type": "markdown",
      "metadata": {
        "id": "ntGpbsBg8hft"
      },
      "source": [
        "## Sample Submission File"
      ]
    },
    {
      "cell_type": "code",
      "execution_count": null,
      "metadata": {
        "id": "-5Dwtw_w3U8W"
      },
      "outputs": [],
      "source": [
        "sample_submission_url = 'https://github.com/robitussin/CCMACLRL_EXAM/blob/a46a4e2a001dedaefc9b431d480b508ce86c2d96/datasets/sample_submission.csv?raw=true'\n",
        "\n",
        "sf=pd.read_csv(sample_submission_url)"
      ]
    },
    {
      "cell_type": "code",
      "execution_count": null,
      "metadata": {
        "id": "YNPxKPLUL_pr"
      },
      "outputs": [],
      "source": [
        "df.sample(10)"
      ]
    },
    {
      "cell_type": "code",
      "execution_count": null,
      "metadata": {
        "id": "xy2XuV3uOXSy"
      },
      "outputs": [],
      "source": [
        "df.info()"
      ]
    },
    {
      "cell_type": "code",
      "source": [
        "dt.info()"
      ],
      "metadata": {
        "id": "DEb6qSLRSGgA"
      },
      "execution_count": null,
      "outputs": []
    },
    {
      "cell_type": "code",
      "execution_count": null,
      "metadata": {
        "id": "4KI-qNqWRtdP"
      },
      "outputs": [],
      "source": [
        "df.fillna(0, inplace = True)\n",
        "df['title_label'] = df['clean_title'].map({'Yes' : 1, 0 : 0})\n",
        "dt.fillna(0, inplace = True)\n",
        "dt['title_label'] = dt['clean_title'].map({'Yes' : 1, 0 : 0})\n",
        "df.sample(5)"
      ]
    },
    {
      "cell_type": "code",
      "execution_count": null,
      "metadata": {
        "id": "WMAmjt6ZiRKU"
      },
      "outputs": [],
      "source": [
        "df.brand.unique()"
      ]
    },
    {
      "cell_type": "markdown",
      "metadata": {
        "id": "Bjus12qmk-eQ"
      },
      "source": []
    },
    {
      "cell_type": "markdown",
      "metadata": {
        "id": "_FWEHGEHeIZO"
      },
      "source": [
        "LUXURY, AGE, HORSEPOWER"
      ]
    },
    {
      "cell_type": "code",
      "execution_count": null,
      "metadata": {
        "id": "tGNx6vwHkAFS"
      },
      "outputs": [],
      "source": [
        "luxury_brands = ['MINI', 'Lincoln', 'Genesis', 'Mercedes-Benz', 'Audi', 'BMW', 'Tesla', 'Cadillac', 'Land Rover', 'Lexus',\n",
        "                 'Porsche', 'McLaren', 'Rolls-Royce', 'Maserati', 'Bentley', 'Ferrari', 'Aston Martin', 'Lamborghini', 'Lucid', 'Lotus',\n",
        "                 'Maybach']\n",
        "df['is_luxury'] = df['brand'].isin(luxury_brands)\n",
        "dt['is_luxury'] = dt['brand'].isin(luxury_brands)"
      ]
    },
    {
      "cell_type": "code",
      "execution_count": null,
      "metadata": {
        "id": "7n1UzuiQmlRf"
      },
      "outputs": [],
      "source": [
        "df['horsepower'] = df['engine'].str.extract('(\\d+\\.?\\d*)HP', expand=False)\n",
        "dt['horsepower'] = dt['engine'].str.extract('(\\d+\\.?\\d*)HP', expand=False)\n",
        "df.fillna(0, inplace = True)\n",
        "dt.fillna(0, inplace = True)\n",
        "df.sample(10)"
      ]
    },
    {
      "cell_type": "code",
      "execution_count": null,
      "metadata": {
        "id": "TC-mDMQzuXzN"
      },
      "outputs": [],
      "source": [
        "df.transmission.unique()\n",
        "at_arr = ['Automatic', 'A/T', 'AT', 'Single-Speed Fixed Gear']\n",
        "df['trans_lbl'] = df['transmission'].isin(at_arr)\n",
        "dt['trans_lbl'] = dt['transmission'].isin(at_arr)\n",
        "df['trans_lbl'] = df['trans_lbl'].map({True: 1, False: 0})\n",
        "dt['trans_lbl'] = dt['trans_lbl'].map({True: 1, False: 0})\n",
        "df.sample(5)"
      ]
    },
    {
      "cell_type": "code",
      "execution_count": null,
      "metadata": {
        "id": "vxrCl44VyhCL"
      },
      "outputs": [],
      "source": [
        "from datetime import datetime\n",
        "\n",
        "current_year = datetime.now().year\n",
        "df['car_age'] = current_year - df['model_year']\n",
        "dt['car_age'] = current_year - dt['model_year']\n",
        "df.sample(5)"
      ]
    },
    {
      "cell_type": "code",
      "execution_count": null,
      "metadata": {
        "id": "8ov-oqd0y3yX"
      },
      "outputs": [],
      "source": [
        "df.accident.unique()"
      ]
    },
    {
      "cell_type": "code",
      "execution_count": null,
      "metadata": {
        "id": "STIpxL304uax"
      },
      "outputs": [],
      "source": [
        "df['fuel_type'] = df['fuel_type'].map({'Gasoline' : 1, 'E85 Flex Fuel' : 2, 0:0, 'Hybrid' : 3, 'Diesel': 4, 'Plug-In Hybrid' : 5, '-' : 0 , 'not supported' : 0})\n",
        "dt['fuel_type'] = dt['fuel_type'].map({'Gasoline' : 1, 'E85 Flex Fuel' : 2, 0:0, 'Hybrid' : 3, 'Diesel': 4, 'Plug-In Hybrid' : 5, '-' : 0 , 'not supported' : 0})"
      ]
    },
    {
      "cell_type": "code",
      "execution_count": null,
      "metadata": {
        "id": "_ED_XnDz5az4"
      },
      "outputs": [],
      "source": [
        "df['accident'] = df['accident'].map({'None reported' : 0, 'At least 1 accident or damage reported' : 1, 0:0})\n",
        "dt['accident'] = dt['accident'].map({'None reported' : 0, 'At least 1 accident or damage reported' : 1, 0:0})\n",
        "dt.sample(5)"
      ]
    },
    {
      "cell_type": "code",
      "execution_count": null,
      "metadata": {
        "id": "D7mx7JYv2Ppz",
        "collapsed": true
      },
      "outputs": [],
      "source": [
        "#DF!\n",
        "\n",
        "label_encoder = LabelEncoder()\n",
        "df['brand_lbl'] = label_encoder.fit_transform(df['brand'])\n",
        "# df['fuel_lbl'] = label_encoder.fit_transform(df['fuel_type'])\n",
        "# df['accident_lbl'] = label_encoder.fit_transform(df['accident'])\n",
        "df['ext_col_lbl'] = label_encoder.fit_transform(df['ext_col'])\n",
        "df['int_col_lbl'] = label_encoder.fit_transform(df['int_col'])\n",
        "df = df.drop(['brand', 'id', 'model', 'fuel_type', 'accident', 'engine', 'transmission', 'clean_title', 'ext_col', 'int_col'],axis=1)\n",
        "df.sample(5)"
      ]
    },
    {
      "cell_type": "code",
      "source": [
        "#DT!\n",
        "\n",
        "dt['brand_lbl'] = label_encoder.fit_transform(dt['brand'])\n",
        "# df['fuel_lbl'] = label_encoder.fit_transform(df['fuel_type'])\n",
        "# df['accident_lbl'] = label_encoder.fit_transform(df['accident'])\n",
        "dt['ext_col_lbl'] = label_encoder.fit_transform(dt['ext_col'])\n",
        "dt['int_col_lbl'] = label_encoder.fit_transform(dt['int_col'])\n",
        "\n",
        "dt = dt.drop(['brand', 'id', 'model', 'fuel_type', 'accident', 'engine', 'transmission', 'clean_title', 'ext_col', 'int_col'],axis=1)\n",
        "dt.sample(5)"
      ],
      "metadata": {
        "id": "3SP8dzpeLtds"
      },
      "execution_count": null,
      "outputs": []
    },
    {
      "cell_type": "code",
      "execution_count": null,
      "metadata": {
        "id": "p5x1zkpw0tm5"
      },
      "outputs": [],
      "source": [
        "plt.figure(figsize=(20, 20))\n",
        "sns.heatmap(df.corr(), annot=True, vmin=-1, vmax=1, center=0)\n",
        "plt.show()"
      ]
    },
    {
      "cell_type": "code",
      "execution_count": null,
      "metadata": {
        "id": "79CbXKfwBEhO"
      },
      "outputs": [],
      "source": [
        "from sklearn.preprocessing import MinMaxScaler\n",
        "non_boolean_numerical_features = [\"model_year\",'price','title_label','is_luxury','horsepower','trans_lbl','car_age','brand_lbl', 'ext_col_lbl', 'int_col_lbl']\n",
        "scaler = MinMaxScaler()\n",
        "df[non_boolean_numerical_features] = scaler.fit_transform(df[non_boolean_numerical_features])"
      ]
    },
    {
      "cell_type": "code",
      "execution_count": null,
      "metadata": {
        "id": "6nhFkzAF7ROv"
      },
      "outputs": [],
      "source": [
        "X_scaled = df.drop(['price','ext_col_lbl', 'int_col_lbl', 'brand_lbl', 'model_year'],axis=1)\n",
        "y_scaled = df['price']\n",
        "X_train,X_test,y_train,y_test = train_test_split(X_scaled, y_scaled,test_size=0.4,random_state=42)"
      ]
    },
    {
      "cell_type": "markdown",
      "source": [],
      "metadata": {
        "id": "8LMCNDU2TP8n"
      }
    },
    {
      "cell_type": "code",
      "execution_count": null,
      "metadata": {
        "id": "YHZt6ten_X-o"
      },
      "outputs": [],
      "source": [
        "linear_reg = LinearRegression()\n",
        "linear_reg.fit(X_train, y_train)"
      ]
    },
    {
      "cell_type": "code",
      "execution_count": null,
      "metadata": {
        "id": "ByYKJQRiAwy-"
      },
      "outputs": [],
      "source": [
        "y_pred_train = linear_reg.predict(X_train)\n",
        "y_pred_test = linear_reg.predict(X_test)"
      ]
    },
    {
      "cell_type": "code",
      "execution_count": null,
      "metadata": {
        "id": "rVLQ-ZOIA1zv"
      },
      "outputs": [],
      "source": [
        "train_mse = mean_squared_error(y_train, y_pred_train, squared=False)\n",
        "test_mse = mean_squared_error(y_test, y_pred_test, squared=False)\n",
        "train_r2 = r2_score(y_train, y_pred_train)\n",
        "test_r2 = r2_score(y_test, y_pred_test)\n",
        "\n",
        "print(f\"Training MSE: {train_mse}\")\n",
        "print(f\"Testing MSE: {test_mse}\")\n",
        "print(f\"Training R2 Score: {train_r2}\")\n",
        "print(f\"Testing R2 Score: {test_r2}\")"
      ]
    },
    {
      "cell_type": "code",
      "execution_count": null,
      "metadata": {
        "id": "x52DjBGBDdAS"
      },
      "outputs": [],
      "source": []
    },
    {
      "cell_type": "code",
      "execution_count": null,
      "metadata": {
        "id": "dH_HSUOFDhDa"
      },
      "outputs": [],
      "source": [
        "sample_submission_url = 'https://github.com/robitussin/CCMACLRL_EXAM/blob/a46a4e2a001dedaefc9b431d480b508ce86c2d96/datasets/sample_submission.csv?raw=true'\n",
        "\n",
        "sf=pd.read_csv(sample_submission_url)"
      ]
    },
    {
      "cell_type": "code",
      "source": [
        "dt.info()"
      ],
      "metadata": {
        "id": "F03w7QxGJ7lm"
      },
      "execution_count": null,
      "outputs": []
    },
    {
      "cell_type": "code",
      "source": [
        "df.info()"
      ],
      "metadata": {
        "id": "bLPeuCJVNdWa"
      },
      "execution_count": null,
      "outputs": []
    },
    {
      "cell_type": "code",
      "source": [
        "dt.drop(columns=['brand_lbl', 'ext_col_lbl', 'int_col_lbl', 'model_year'], inplace=True, axis = 1)"
      ],
      "metadata": {
        "id": "JVbEJ3sbUz2k"
      },
      "execution_count": null,
      "outputs": []
    },
    {
      "cell_type": "code",
      "execution_count": null,
      "metadata": {
        "id": "DUGTT7tsDib5"
      },
      "outputs": [],
      "source": [
        "id = sf.pop('id')\n",
        "y_pred = linear_reg.predict(dt)\n",
        "\n",
        "# Create a submission DataFrame\n",
        "submission_df = pd.DataFrame({\n",
        "    'id': id,\n",
        "    'class': y_pred\n",
        "})\n",
        "\n",
        "# Save the submission DataFrame to a CSV file\n",
        "submission_df.to_csv('submission_file.csv', index=False)\n",
        "print(\"Submission file created: submission_file.csv\")"
      ]
    },
    {
      "cell_type": "code",
      "source": [],
      "metadata": {
        "id": "bMPRbq1pGSOa"
      },
      "execution_count": null,
      "outputs": []
    }
  ],
  "metadata": {
    "colab": {
      "provenance": []
    },
    "kernelspec": {
      "display_name": "Python 3",
      "name": "python3"
    },
    "language_info": {
      "name": "python"
    }
  },
  "nbformat": 4,
  "nbformat_minor": 0
}